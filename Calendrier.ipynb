{
 "cells": [
  {
   "cell_type": "code",
   "execution_count": 2,
   "metadata": {},
   "outputs": [],
   "source": [
    "from ics import Calendar\n",
    "import requests\n",
    "import arrow\n",
    "import datetime \n",
    "\n",
    "url = \"https://outlook.office365.com/owa/calendar/d7749e57c7964bc1ae8406ac11ff6f10@edu.devinci.fr/8c71d34af3f849e0b1a6dfc66c17d87714175672858623324700/calendar.ics\"\n",
    "c = Calendar(requests.get(url).text)\n",
    "events = list(c.events)"
   ]
  },
  {
   "cell_type": "code",
   "execution_count": 5,
   "metadata": {},
   "outputs": [
    {
     "name": "stdout",
     "output_type": "stream",
     "text": [
      "202209101045 ['[TD] Complexité', 'L 201 (46)']\n"
     ]
    }
   ],
   "source": [
    "StartEvents=[event.begin.to('Europe/Paris').format('YYYYMMDDHHmm') for event in events]\n",
    "EventInfo=[[event.name,event.location] for event in events]\n",
    "dict_event = dict(zip(StartEvents, EventInfo))\n",
    "StartEvents.sort()\n",
    "utcnow = arrow.now().to('Europe/Paris').format('YYYYMMDDHHmm')\n",
    "for event in range(len(StartEvents)):\n",
    "    if int(StartEvents[event]) > int(utcnow):\n",
    "        if(StartEvents[event][0:8]!=StartEvents[event-1][0:8] or (dict_event[StartEvents[event]]!=dict_event[StartEvents[event-1]][1] and dict_event[StartEvents[event-1]][1]==\"ZOOM\")):\n",
    "            print(\"Bouge ti le cul gentil monsieur!!!\")\n",
    "            print(dict_event[StartEvents[event]][1])\n",
    "        \n",
    "            if (dict_event[StartEvents[event]][1][0]==(\"E\" or \"L\") and dict_event[StartEvents[event]][1][2:5].isnumeric() or dict_event[StartEvents[event]][1][0:6]==\"ESILV\" ):\n",
    "                dict_event[StartEvents[event]][2]=f\"ESILV La défense\"\n",
    "                print(dict_event[StartEvents[event]][1])\n",
    "        print(StartEvents[event],dict_event[StartEvents[event]])\n",
    "        break"
   ]
  },
  {
   "cell_type": "code",
   "execution_count": null,
   "metadata": {},
   "outputs": [],
   "source": []
  }
 ],
 "metadata": {
  "kernelspec": {
   "display_name": "Python 3 (ipykernel)",
   "language": "python",
   "name": "python3"
  },
  "language_info": {
   "codemirror_mode": {
    "name": "ipython",
    "version": 3
   },
   "file_extension": ".py",
   "mimetype": "text/x-python",
   "name": "python",
   "nbconvert_exporter": "python",
   "pygments_lexer": "ipython3",
   "version": "3.10.2"
  },
  "vscode": {
   "interpreter": {
    "hash": "2881cb102472c0a2cc7b98c9f5b468e81049b20ea6d80c54eb33ba6f13a3277c"
   }
  }
 },
 "nbformat": 4,
 "nbformat_minor": 4
}
